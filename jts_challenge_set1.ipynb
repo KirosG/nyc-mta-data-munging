{
 "cells": [
  {
   "cell_type": "markdown",
   "metadata": {},
   "source": [
    "Challenge Set 1\n",
    "\n",
    "Topic:        Explore MTA turnstile data\n",
    "\n",
    "Date:         1/13/2016\n",
    "\n",
    "Name:         Justin Stewart\n"
   ]
  },
  {
   "cell_type": "markdown",
   "metadata": {
    "collapsed": false
   },
   "source": [
    "# Challenge 1:"
   ]
  },
  {
   "cell_type": "markdown",
   "metadata": {},
   "source": [
    "Download a few MTA turnstile data files. Open up a file, use csv reader to read it, make a python dict where there is a key for each (C/A, UNIT, SCP, STATION). These are the first four columns. The value for this key should be a list of lists. Each list in the list is the rest of the columns in a row."
   ]
  },
  {
   "cell_type": "code",
   "execution_count": null,
   "metadata": {
    "collapsed": true
   },
   "outputs": [],
   "source": [
    "#!curl http://web.mta.info/developers/data/nyct/turnstile/turnstile_160109.txt > mta_data_jan09.csv"
   ]
  },
  {
   "cell_type": "code",
   "execution_count": 1,
   "metadata": {
    "collapsed": false
   },
   "outputs": [],
   "source": [
    "import csv\n",
    "\n",
    "def mta_csv_to_dict(path_to_csv):\n",
    "    with open(path_to_csv) as csvfile:\n",
    "        mta_reader = csv.reader(csvfile, delimiter=',')\n",
    "        mta_rows = [[cell.strip() for cell in row] for row in mta_reader]\n",
    "    assert mta_rows.pop(0) == ['C/A','UNIT','SCP','STATION','LINENAME','DIVISION',\n",
    "                               'DATE','TIME','DESC','ENTRIES','EXITS']\n",
    "    mta_dict = {}\n",
    "    for row in mta_rows:\n",
    "        key, val =  tuple(row[:4]), row[4:]\n",
    "        mta_dict.setdefault(key,[]).append(val)\n",
    "    return mta_dict\n",
    "\n",
    "mta_dict = mta_csv_to_dict('mta_data_jan09.csv')"
   ]
  },
  {
   "cell_type": "markdown",
   "metadata": {},
   "source": [
    "# Challenge 2"
   ]
  },
  {
   "cell_type": "markdown",
   "metadata": {},
   "source": [
    "Let's turn this into a time series. For each key (basically the control area, unit, device address and station of a specific turnstile), have a list again, but let the list be comprised of just the point in time and the count of entries. This basically means keeping only the date, time, and entries field in each list."
   ]
  },
  {
   "cell_type": "markdown",
   "metadata": {},
   "source": [
    "First we create a new dictionary containing the same key and change the value to a list containing the resulting datetime object found by parseing to date and time feilds, and the cummulative value of entries at that key. "
   ]
  },
  {
   "cell_type": "code",
   "execution_count": 31,
   "metadata": {
    "collapsed": false
   },
   "outputs": [],
   "source": [
    "from dateutil.parser import parse\n",
    "\n",
    "mta_cummulative_timeseries = {key: [[parse(row[2]+' '+row[3]),int(row[5])] \n",
    "                                      for i, row in enumerate(val)] \n",
    "                                      for key,val in mta_dict.items()}\n",
    "\n"
   ]
  },
  {
   "cell_type": "markdown",
   "metadata": {},
   "source": [
    "Then we create another dictionary, again using the same keys, but find the total entries per turnstyle by taking the difference between subsequent recordings."
   ]
  },
  {
   "cell_type": "code",
   "execution_count": 36,
   "metadata": {
    "collapsed": false
   },
   "outputs": [],
   "source": [
    "mta_timeseries = {key:[[val[i][0],\n",
    "                        val[i+1][1]-val[i][1]] \n",
    "                  for i in range(len(val)-1)]\n",
    "                  for key,val in mta_cummulative_timeseries.items()}"
   ]
  },
  {
   "cell_type": "markdown",
   "metadata": {},
   "source": [
    "# Challenge 3"
   ]
  },
  {
   "cell_type": "markdown",
   "metadata": {},
   "source": [
    "Now we create the dictionary a third time (with same keys) but now have a single value for a single day, which is the total number of passengers that entered through this turnstile on this day. These counts are for every n hours. (What is n?) We want total daily entries."
   ]
  },
  {
   "cell_type": "markdown",
   "metadata": {},
   "source": [
    "The value of n is 4 hours."
   ]
  },
  {
   "cell_type": "markdown",
   "metadata": {},
   "source": [
    "Completing this requires iterating through the items of the mta_timeseries and aggregating the values that are in the same day. Solution is given below. "
   ]
  },
  {
   "cell_type": "code",
   "execution_count": 40,
   "metadata": {
    "collapsed": false
   },
   "outputs": [],
   "source": [
    "mta_daily_timeseries = {}\n",
    "for key,time_counts in mta_timeseries.items():\n",
    "    day_counts = {}\n",
    "    for time,count in time_counts:\n",
    "        date = time.date()\n",
    "        day_counts[date] = day_counts.get(date,0) + count\n",
    "    mta_daily_timeseries[key] = sorted(day_counts.items())"
   ]
  },
  {
   "cell_type": "markdown",
   "metadata": {},
   "source": [
    "# Challenge 4"
   ]
  },
  {
   "cell_type": "markdown",
   "metadata": {},
   "source": [
    "Plot the daily time series for a turnstile."
   ]
  },
  {
   "cell_type": "code",
   "execution_count": 50,
   "metadata": {
    "collapsed": false
   },
   "outputs": [],
   "source": [
    "turnstyle = mta_daily_timeseries.items()[0][1]\n",
    "dates,counts = zip(*turnstyle)"
   ]
  },
  {
   "cell_type": "code",
   "execution_count": 84,
   "metadata": {
    "collapsed": false
   },
   "outputs": [
    {
     "data": {
      "text/plain": [
       "[<matplotlib.lines.Line2D at 0x113757d10>]"
      ]
     },
     "execution_count": 84,
     "metadata": {},
     "output_type": "execute_result"
    },
    {
     "data": {
      "image/png": "[encoded data removed]",
      "text/plain": [
       "<matplotlib.figure.Figure at 0x113698bd0>"
      ]
     },
     "metadata": {},
     "output_type": "display_data"
    }
   ],
   "source": [
    "%matplotlib inline\n",
    "import matplotlib.pyplot as plt\n",
    "plt.figure(figsize=(10,3))\n",
    "plt.xlabel('dates')\n",
    "plt.ylabel('turnstyle volume')\n",
    "plt.plot(dates,counts)"
   ]
  },
  {
   "cell_type": "markdown",
   "metadata": {},
   "source": [
    "# Challenge 5"
   ]
  },
  {
   "cell_type": "markdown",
   "metadata": {},
   "source": [
    "So far we've been operating on a single turnstile level, let's combine turnstiles in the same ControlArea/Unit/Station combo. There are some ControlArea/Unit/Station groups that have a single turnstile, but most have multiple turnstilea-- same value for the C/A, UNIT and STATION columns, different values for the SCP column. We want to combine the numbers together -- for each ControlArea/UNIT/STATION combo, for each day, add the counts from each turnstile belonging to that combo."
   ]
  },
  {
   "cell_type": "code",
   "execution_count": 70,
   "metadata": {
    "collapsed": false
   },
   "outputs": [],
   "source": [
    "unit_level = {}\n",
    "for key, val in mta_daily_timeseries.items():\n",
    "    a,b,_,s = key\n",
    "    unit_key = (a,b,s)\n",
    "    unit_val = {}\n",
    "    for date,count in val:\n",
    "        unit_val[date] = unit_val.get(date,0) + count\n",
    "    unit_level[unit_key] = sorted(unit_val.items())\n"
   ]
  },
  {
   "cell_type": "markdown",
   "metadata": {},
   "source": [
    "# Challenge 6"
   ]
  },
  {
   "cell_type": "markdown",
   "metadata": {},
   "source": [
    "Using the same method, we can combine the dated enrty for each station and come up with a time series of [(date1, count1),(date2,count2),...] for each STATION."
   ]
  },
  {
   "cell_type": "code",
   "execution_count": 71,
   "metadata": {
    "collapsed": true
   },
   "outputs": [],
   "source": [
    "station_level = {}\n",
    "for key, val in unit_level.items():\n",
    "    _,_,station = key\n",
    "    station_key = station\n",
    "    station_val = {}\n",
    "    for date,count in val:\n",
    "        station_val[date] = station_val.get(date,0) + count\n",
    "    station_level[station_key] = sorted(station_val.items())"
   ]
  },
  {
   "cell_type": "markdown",
   "metadata": {
    "collapsed": true
   },
   "source": [
    "# Challenge 7"
   ]
  },
  {
   "cell_type": "markdown",
   "metadata": {},
   "source": [
    "Plot the time series for a station."
   ]
  },
  {
   "cell_type": "markdown",
   "metadata": {},
   "source": [
    "Set a variable to be an example station's time series."
   ]
  },
  {
   "cell_type": "code",
   "execution_count": 80,
   "metadata": {
    "collapsed": false
   },
   "outputs": [],
   "source": [
    "station_counts = station_level.items()[0]\n",
    "dates,counts =  zip(*station_counts[1])"
   ]
  },
  {
   "cell_type": "code",
   "execution_count": 83,
   "metadata": {
    "collapsed": false
   },
   "outputs": [
    {
     "data": {
      "text/plain": [
       "[<matplotlib.lines.Line2D at 0x11359dc10>]"
      ]
     },
     "execution_count": 83,
     "metadata": {},
     "output_type": "execute_result"
    },
    {
     "data": {
      "image/png": "[encoded data removed]",
      "text/plain": [
       "<matplotlib.figure.Figure at 0x10cf2e890>"
      ]
     },
     "metadata": {},
     "output_type": "display_data"
    }
   ],
   "source": [
    "%matplotlib inline\n",
    "import matplotlib.pyplot as plt\n",
    "plt.figure(figsize=(10,3))\n",
    "plt.xlabel('dates')\n",
    "plt.ylabel('turnstyle volume')\n",
    "plt.plot(dates,counts)"
   ]
  },
  {
   "cell_type": "markdown",
   "metadata": {},
   "source": [
    "# Challenge 8"
   ]
  },
  {
   "cell_type": "markdown",
   "metadata": {},
   "source": [
    "Make one list of counts for one week for one station. Monday's count, Tuesday's count, etc. so it's a list of 7 counts. Make the same list for another week, and another week, and another week. ```plt.plot(week_count_list)``` for every ```week_count_list``` you created this way. You should get a rainbow plot of weekly commute numbers on top of each other."
   ]
  },
  {
   "cell_type": "markdown",
   "metadata": {},
   "source": [
    "The first task the problem necessitates is to download more data sets."
   ]
  },
  {
   "cell_type": "code",
   "execution_count": 86,
   "metadata": {
    "collapsed": false
   },
   "outputs": [],
   "source": [
    "# !curl http://web.mta.info/developers/data/nyct/turnstile/turnstile_160102.txt > mta_data_jan02.csv\n",
    "# !curl http://web.mta.info/developers/data/nyct/turnstile/turnstile_151226.txt > mta_data_dec26.csv\n",
    "# !curl http://web.mta.info/developers/data/nyct/turnstile/turnstile_151219.txt > mta_data_dec19.csv"
   ]
  },
  {
   "cell_type": "markdown",
   "metadata": {},
   "source": [
    "Then we need to utilize the functions created in the previous challenges to parse these new data sets for us to get them into a d"
   ]
  }
 ],
 "metadata": {
  "kernelspec": {
   "display_name": "Python 2",
   "language": "python",
   "name": "python2"
  },
  "language_info": {
   "codemirror_mode": {
    "name": "ipython",
    "version": 2
   },
   "file_extension": ".py",
   "mimetype": "text/x-python",
   "name": "python",
   "nbconvert_exporter": "python",
   "pygments_lexer": "ipython2",
   "version": "2.7.10"
  }
 },
 "nbformat": 4,
 "nbformat_minor": 0
}
