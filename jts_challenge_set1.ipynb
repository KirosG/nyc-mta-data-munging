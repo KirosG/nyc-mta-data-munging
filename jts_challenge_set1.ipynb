{
 "cells": [
  {
   "cell_type": "markdown",
   "metadata": {},
   "source": [
    "Challenge Set 1\n",
    "\n",
    "Topic:        Explore MTA turnstile data\n",
    "\n",
    "Date:         1/13/2016\n",
    "\n",
    "Name:         Justin Stewart\n"
   ]
  },
  {
   "cell_type": "markdown",
   "metadata": {
    "collapsed": false
   },
   "source": [
    "# Challenge 1:"
   ]
  },
  {
   "cell_type": "markdown",
   "metadata": {},
   "source": [
    "Download a few MTA turnstile data files. Open up a file, use csv reader to read it, make a python dict where there is a key for each (C/A, UNIT, SCP, STATION). These are the first four columns. The value for this key should be a list of lists. Each list in the list is the rest of the columns in a row."
   ]
  },
  {
   "cell_type": "code",
   "execution_count": null,
   "metadata": {
    "collapsed": true
   },
   "outputs": [],
   "source": [
    "#!curl http://web.mta.info/developers/data/nyct/turnstile/turnstile_160109.txt > mta_data_jan09.csv"
   ]
  },
  {
   "cell_type": "code",
   "execution_count": 1,
   "metadata": {
    "collapsed": false
   },
   "outputs": [],
   "source": [
    "import csv\n",
    "\n",
    "def mta_csv_to_dict(path_to_csv):\n",
    "    with open(path_to_csv) as csvfile:\n",
    "        mta_reader = csv.reader(csvfile, delimiter=',')\n",
    "        mta_rows = [[cell.strip() for cell in row] for row in mta_reader]\n",
    "    assert mta_rows.pop(0) == ['C/A','UNIT','SCP','STATION','LINENAME','DIVISION',\n",
    "                               'DATE','TIME','DESC','ENTRIES','EXITS']\n",
    "    mta_dict = {}\n",
    "    for row in mta_rows:\n",
    "        key, val =  tuple(row[:4]), row[4:]\n",
    "        mta_dict.setdefault(key,[]).append(val)\n",
    "    return mta_dict\n",
    "\n",
    "mta_dict = mta_csv_to_dict('mta_data_jan09.csv')"
   ]
  },
  {
   "cell_type": "markdown",
   "metadata": {},
   "source": [
    "# Challenge 2"
   ]
  },
  {
   "cell_type": "markdown",
   "metadata": {},
   "source": [
    "Let's turn this into a time series. For each key (basically the control area, unit, device address and station of a specific turnstile), have a list again, but let the list be comprised of just the point in time and the count of entries. This basically means keeping only the date, time, and entries field in each list."
   ]
  },
  {
   "cell_type": "markdown",
   "metadata": {},
   "source": [
    "First we create a new dictionary containing the same key and change the value to a list containing the resulting datetime object found by parseing to date and time feilds, and the cummulative value of entries at that key. "
   ]
  },
  {
   "cell_type": "code",
   "execution_count": 31,
   "metadata": {
    "collapsed": false
   },
   "outputs": [],
   "source": [
    "from dateutil.parser import parse\n",
    "\n",
    "mta_cummulative_timeseries = {key: [[parse(row[2]+' '+row[3]),int(row[5])] \n",
    "                                      for i, row in enumerate(val)] \n",
    "                                      for key,val in mta_dict.items()}\n",
    "\n"
   ]
  },
  {
   "cell_type": "markdown",
   "metadata": {},
   "source": [
    "Then we create another dictionary, again using the same keys, but find the total entries per turnstyle by taking the difference between subsequent recordings."
   ]
  },
  {
   "cell_type": "code",
   "execution_count": 36,
   "metadata": {
    "collapsed": false
   },
   "outputs": [],
   "source": [
    "mta_timeseries = {key:[[val[i][0],\n",
    "                        val[i+1][1]-val[i][1]] \n",
    "                  for i in range(len(val)-1)]\n",
    "                  for key,val in mta_cummulative_timeseries.items()}"
   ]
  },
  {
   "cell_type": "markdown",
   "metadata": {},
   "source": [
    "# Challenge 3"
   ]
  },
  {
   "cell_type": "markdown",
   "metadata": {},
   "source": [
    "Now we create the dictionary a third time (with same keys) but now have a single value for a single day, which is the total number of passengers that entered through this turnstile on this day. These counts are for every n hours. (What is n?) We want total daily entries."
   ]
  },
  {
   "cell_type": "markdown",
   "metadata": {},
   "source": [
    "The value of n is 4 hours."
   ]
  },
  {
   "cell_type": "markdown",
   "metadata": {},
   "source": [
    "Completing this requires iterating through the items of the mta_timeseries and aggregating the values that are in the same day. "
   ]
  },
  {
   "cell_type": "code",
   "execution_count": 40,
   "metadata": {
    "collapsed": false
   },
   "outputs": [],
   "source": [
    "mta_daily_timeseries = {}\n",
    "for key,time_counts in mta_timeseries.items():\n",
    "    day_counts = {}\n",
    "    for time,count in time_counts:\n",
    "        date = time.date()\n",
    "        day_counts[date] = day_counts.get(date,0) + count\n",
    "    mta_daily_timeseries[key] = sorted(day_counts.items())"
   ]
  }
 ],
 "metadata": {
  "kernelspec": {
   "display_name": "Python 2",
   "language": "python",
   "name": "python2"
  },
  "language_info": {
   "codemirror_mode": {
    "name": "ipython",
    "version": 2
   },
   "file_extension": ".py",
   "mimetype": "text/x-python",
   "name": "python",
   "nbconvert_exporter": "python",
   "pygments_lexer": "ipython2",
   "version": "2.7.10"
  }
 },
 "nbformat": 4,
 "nbformat_minor": 0
}
